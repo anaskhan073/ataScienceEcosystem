{
 "cells": [
  {
   "cell_type": "markdown",
   "id": "80496c5e-4bf6-44db-b0ab-d724756e3eec",
   "metadata": {},
   "source": [
    "# Data Science Tools and Ecosystem "
   ]
  },
  {
   "cell_type": "markdown",
   "id": "efa3f510-3390-47c7-b532-a4a8bd417f4d",
   "metadata": {},
   "source": [
    "In this notebook, Data Science Tools and Ecosystem are summarized."
   ]
  },
  {
   "cell_type": "markdown",
   "id": "a6bf0fb4-3298-4013-92a3-205037472885",
   "metadata": {},
   "source": [
    "Some of the popular languages that Data Scientists use are:"
   ]
  },
  {
   "cell_type": "markdown",
   "id": "06abb02a-15e3-4787-bd37-0a0c00410c4f",
   "metadata": {},
   "source": [
    "<ol>\n",
    "    <li>Python</li>\n",
    "    <li>R</li>\n",
    "    <li>SQL</li>\n",
    "    <li>Java</li>\n",
    "    <li>Julia</li>\n",
    "    <li>Scala</li>\n",
    "    <li>MATLAB</li>\n",
    "</ol>"
   ]
  },
  {
   "cell_type": "markdown",
   "id": "9d39e87a-d782-49b7-a9fc-8955e4c5321b",
   "metadata": {},
   "source": [
    "Some of the commonly used libraries used by Data Scientists include:"
   ]
  },
  {
   "cell_type": "markdown",
   "id": "e60c6f39-2ca2-44c2-801f-ce09f45bf8b6",
   "metadata": {},
   "source": [
    "<ol>\n",
    "    <li>NumPy</li>\n",
    "    <li>Matplotlib</li>\n",
    "    <li>Pandas</li>\n",
    "    <li>SciPy</li>\n",
    "    <li>PyTorch</li>\n",
    "    <li>Seaborn</li>\n",
    "</ol>"
   ]
  },
  {
   "cell_type": "code",
   "execution_count": null,
   "id": "322f4e42-45b8-4a27-9221-9c57c9b94310",
   "metadata": {},
   "outputs": [],
   "source": []
  },
  {
   "cell_type": "markdown",
   "id": "35deecf7-33df-45b0-92a0-61bf1123ce23",
   "metadata": {},
   "source": [
    "<table>\n",
    "  <thead>\n",
    "    <tr>\n",
    "      <th scope=\"col\">#</th>\n",
    "      <th scope=\"col\">Data Science Tools</th>\n",
    "    </tr>\n",
    "  </thead>\n",
    "  <tbody>\n",
    "    <tr>\n",
    "      <th scope=\"row\">1</th>\n",
    "      <td>Apache Spark</td>\n",
    "    </tr>\n",
    "    <tr>\n",
    "      <th scope=\"row\">2</th>\n",
    "      <td>D3.js</td>\n",
    "    </tr>\n",
    "    <tr>\n",
    "      <th scope=\"row\">3</th>\n",
    "      <td colspan=\"2\">IBM SPSS</td>\n",
    "    </tr>\n",
    "  </tbody>\n",
    "</table>"
   ]
  },
  {
   "cell_type": "markdown",
   "id": "ddd71d25-53bd-4dce-911e-ab8471e58108",
   "metadata": {},
   "source": [
    "<h3> Below are a few examples of evaluating arithmetic expressions in Python</h3>"
   ]
  },
  {
   "cell_type": "markdown",
   "id": "3f948f60-26c2-4df7-8bdb-79d241397a88",
   "metadata": {},
   "source": [
    "1. Integer division (/ /)\n",
    "25//4\n",
    "6\n",
    "2. Exponentiation (**)\n",
    "2 ** 3\n",
    "8\n",
    "3. Modulus Operator (%)\n",
    "17 % 3\n",
    "2"
   ]
  },
  {
   "cell_type": "code",
   "execution_count": 1,
   "id": "63465d98-be96-43e9-b06b-29d8937f5df4",
   "metadata": {},
   "outputs": [
    {
     "data": {
      "text/plain": [
       "17"
      ]
     },
     "execution_count": 1,
     "metadata": {},
     "output_type": "execute_result"
    }
   ],
   "source": [
    "(3*4)+5"
   ]
  },
  {
   "cell_type": "code",
   "execution_count": 8,
   "id": "54e0ba70-e3e4-4d99-9058-92c777c54d19",
   "metadata": {},
   "outputs": [
    {
     "data": {
      "text/plain": [
       "3"
      ]
     },
     "execution_count": 8,
     "metadata": {},
     "output_type": "execute_result"
    }
   ],
   "source": [
    "# 200 minutes \n",
    "200//60"
   ]
  },
  {
   "cell_type": "markdown",
   "id": "819a2c8b-5f9a-4cb5-952e-156108062136",
   "metadata": {},
   "source": [
    "List popular languages for Data Science"
   ]
  },
  {
   "cell_type": "markdown",
   "id": "8ef7f437-a757-4630-a00c-b4dbb8264339",
   "metadata": {},
   "source": [
    "<ul>\n",
    "    <li>Python</li>\n",
    "    <li>R</li>\n",
    "    <li>SQL</li>\n",
    "    <li>Java</li>\n",
    "    <li>Julia</li>\n",
    "    <li>Scala</li>\n",
    "    <li>MATLAB</li>\n",
    "</ul>"
   ]
  },
  {
   "cell_type": "markdown",
   "id": "6a977026-8215-407b-a1a1-1314e6586309",
   "metadata": {},
   "source": [
    "<h2>Author: Anas</h2>"
   ]
  },
  {
   "cell_type": "code",
   "execution_count": null,
   "id": "9d2815f8-2cc4-48c5-98ab-ea877d4cdd6f",
   "metadata": {},
   "outputs": [],
   "source": []
  }
 ],
 "metadata": {
  "kernelspec": {
   "display_name": "Python 3 (ipykernel)",
   "language": "python",
   "name": "python3"
  },
  "language_info": {
   "codemirror_mode": {
    "name": "ipython",
    "version": 3
   },
   "file_extension": ".py",
   "mimetype": "text/x-python",
   "name": "python",
   "nbconvert_exporter": "python",
   "pygments_lexer": "ipython3",
   "version": "3.12.3"
  }
 },
 "nbformat": 4,
 "nbformat_minor": 5
}
